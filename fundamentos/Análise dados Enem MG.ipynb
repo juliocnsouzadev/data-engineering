{
 "cells": [
  {
   "cell_type": "markdown",
   "metadata": {},
   "source": [
    "# Análise dados Enem MG"
   ]
  },
  {
   "cell_type": "code",
   "execution_count": 1,
   "metadata": {},
   "outputs": [],
   "source": [
    "import pandas as pd\n",
    "from pandasql import sqldf\n",
    "import numpy as np\n",
    "import os\n",
    "pysqldf = lambda q: sqldf(q, globals())"
   ]
  },
  {
   "cell_type": "markdown",
   "metadata": {},
   "source": [
    "## Importantado Dataset"
   ]
  },
  {
   "cell_type": "code",
   "execution_count": 2,
   "metadata": {},
   "outputs": [],
   "source": [
    "enem_2019_mg = pd.read_csv(\n",
    "\"../datasets/MICRODADOS_ENEM_2019_MG.csv\",\n",
    "sep = \";\", decimal=\".\", encoding='latin1'\n",
    ")"
   ]
  },
  {
   "cell_type": "code",
   "execution_count": 3,
   "metadata": {},
   "outputs": [
    {
     "data": {
      "text/html": [
       "<div>\n",
       "<style scoped>\n",
       "    .dataframe tbody tr th:only-of-type {\n",
       "        vertical-align: middle;\n",
       "    }\n",
       "\n",
       "    .dataframe tbody tr th {\n",
       "        vertical-align: top;\n",
       "    }\n",
       "\n",
       "    .dataframe thead th {\n",
       "        text-align: right;\n",
       "    }\n",
       "</style>\n",
       "<table border=\"1\" class=\"dataframe\">\n",
       "  <thead>\n",
       "    <tr style=\"text-align: right;\">\n",
       "      <th></th>\n",
       "      <th>Unnamed: 0</th>\n",
       "      <th>NU_INSCRICAO</th>\n",
       "      <th>NU_ANO</th>\n",
       "      <th>CO_MUNICIPIO_RESIDENCIA</th>\n",
       "      <th>CO_UF_RESIDENCIA</th>\n",
       "      <th>NU_IDADE</th>\n",
       "      <th>TP_ESTADO_CIVIL</th>\n",
       "      <th>TP_COR_RACA</th>\n",
       "      <th>TP_NACIONALIDADE</th>\n",
       "      <th>CO_MUNICIPIO_NASCIMENTO</th>\n",
       "      <th>...</th>\n",
       "      <th>NU_NOTA_MT</th>\n",
       "      <th>TP_LINGUA</th>\n",
       "      <th>TP_STATUS_REDACAO</th>\n",
       "      <th>NU_NOTA_COMP1</th>\n",
       "      <th>NU_NOTA_COMP2</th>\n",
       "      <th>NU_NOTA_COMP3</th>\n",
       "      <th>NU_NOTA_COMP4</th>\n",
       "      <th>NU_NOTA_COMP5</th>\n",
       "      <th>NU_NOTA_REDACAO</th>\n",
       "      <th>Q005</th>\n",
       "    </tr>\n",
       "  </thead>\n",
       "  <tbody>\n",
       "    <tr>\n",
       "      <th>count</th>\n",
       "      <td>5.388960e+05</td>\n",
       "      <td>5.388960e+05</td>\n",
       "      <td>538896.0</td>\n",
       "      <td>5.388960e+05</td>\n",
       "      <td>538896.0</td>\n",
       "      <td>538896.000000</td>\n",
       "      <td>538896.000000</td>\n",
       "      <td>538896.000000</td>\n",
       "      <td>538896.000000</td>\n",
       "      <td>5.227400e+05</td>\n",
       "      <td>...</td>\n",
       "      <td>393872.000000</td>\n",
       "      <td>538896.000000</td>\n",
       "      <td>414346.000000</td>\n",
       "      <td>414346.000000</td>\n",
       "      <td>414346.000000</td>\n",
       "      <td>414346.000000</td>\n",
       "      <td>414346.000000</td>\n",
       "      <td>414346.000000</td>\n",
       "      <td>414346.000000</td>\n",
       "      <td>538896.000000</td>\n",
       "    </tr>\n",
       "    <tr>\n",
       "      <th>mean</th>\n",
       "      <td>2.508770e+06</td>\n",
       "      <td>1.900035e+11</td>\n",
       "      <td>2019.0</td>\n",
       "      <td>3.134395e+06</td>\n",
       "      <td>31.0</td>\n",
       "      <td>22.024361</td>\n",
       "      <td>1.087078</td>\n",
       "      <td>2.071778</td>\n",
       "      <td>1.031299</td>\n",
       "      <td>3.152104e+06</td>\n",
       "      <td>...</td>\n",
       "      <td>546.796208</td>\n",
       "      <td>0.425234</td>\n",
       "      <td>1.105212</td>\n",
       "      <td>124.647758</td>\n",
       "      <td>127.689998</td>\n",
       "      <td>119.292331</td>\n",
       "      <td>126.173922</td>\n",
       "      <td>99.186477</td>\n",
       "      <td>596.990486</td>\n",
       "      <td>3.750833</td>\n",
       "    </tr>\n",
       "    <tr>\n",
       "      <th>std</th>\n",
       "      <td>1.505627e+06</td>\n",
       "      <td>1.505757e+06</td>\n",
       "      <td>0.0</td>\n",
       "      <td>2.248739e+04</td>\n",
       "      <td>0.0</td>\n",
       "      <td>7.458167</td>\n",
       "      <td>0.428067</td>\n",
       "      <td>1.006767</td>\n",
       "      <td>0.210176</td>\n",
       "      <td>2.484819e+05</td>\n",
       "      <td>...</td>\n",
       "      <td>115.072018</td>\n",
       "      <td>0.494379</td>\n",
       "      <td>0.678323</td>\n",
       "      <td>32.395614</td>\n",
       "      <td>43.923177</td>\n",
       "      <td>40.975168</td>\n",
       "      <td>38.812983</td>\n",
       "      <td>60.673716</td>\n",
       "      <td>193.028261</td>\n",
       "      <td>1.354242</td>\n",
       "    </tr>\n",
       "    <tr>\n",
       "      <th>min</th>\n",
       "      <td>1.044000e+03</td>\n",
       "      <td>1.900010e+11</td>\n",
       "      <td>2019.0</td>\n",
       "      <td>3.100104e+06</td>\n",
       "      <td>31.0</td>\n",
       "      <td>4.000000</td>\n",
       "      <td>0.000000</td>\n",
       "      <td>0.000000</td>\n",
       "      <td>0.000000</td>\n",
       "      <td>1.100023e+06</td>\n",
       "      <td>...</td>\n",
       "      <td>0.000000</td>\n",
       "      <td>0.000000</td>\n",
       "      <td>1.000000</td>\n",
       "      <td>0.000000</td>\n",
       "      <td>0.000000</td>\n",
       "      <td>0.000000</td>\n",
       "      <td>0.000000</td>\n",
       "      <td>0.000000</td>\n",
       "      <td>0.000000</td>\n",
       "      <td>1.000000</td>\n",
       "    </tr>\n",
       "    <tr>\n",
       "      <th>25%</th>\n",
       "      <td>1.344319e+06</td>\n",
       "      <td>1.900023e+11</td>\n",
       "      <td>2019.0</td>\n",
       "      <td>3.111200e+06</td>\n",
       "      <td>31.0</td>\n",
       "      <td>18.000000</td>\n",
       "      <td>1.000000</td>\n",
       "      <td>1.000000</td>\n",
       "      <td>1.000000</td>\n",
       "      <td>3.106705e+06</td>\n",
       "      <td>...</td>\n",
       "      <td>451.800000</td>\n",
       "      <td>0.000000</td>\n",
       "      <td>1.000000</td>\n",
       "      <td>120.000000</td>\n",
       "      <td>120.000000</td>\n",
       "      <td>100.000000</td>\n",
       "      <td>100.000000</td>\n",
       "      <td>60.000000</td>\n",
       "      <td>500.000000</td>\n",
       "      <td>3.000000</td>\n",
       "    </tr>\n",
       "    <tr>\n",
       "      <th>50%</th>\n",
       "      <td>2.498504e+06</td>\n",
       "      <td>1.900035e+11</td>\n",
       "      <td>2019.0</td>\n",
       "      <td>3.135100e+06</td>\n",
       "      <td>31.0</td>\n",
       "      <td>19.000000</td>\n",
       "      <td>1.000000</td>\n",
       "      <td>2.000000</td>\n",
       "      <td>1.000000</td>\n",
       "      <td>3.134202e+06</td>\n",
       "      <td>...</td>\n",
       "      <td>531.400000</td>\n",
       "      <td>0.000000</td>\n",
       "      <td>1.000000</td>\n",
       "      <td>120.000000</td>\n",
       "      <td>120.000000</td>\n",
       "      <td>120.000000</td>\n",
       "      <td>120.000000</td>\n",
       "      <td>100.000000</td>\n",
       "      <td>600.000000</td>\n",
       "      <td>4.000000</td>\n",
       "    </tr>\n",
       "    <tr>\n",
       "      <th>75%</th>\n",
       "      <td>3.966499e+06</td>\n",
       "      <td>1.900050e+11</td>\n",
       "      <td>2019.0</td>\n",
       "      <td>3.152501e+06</td>\n",
       "      <td>31.0</td>\n",
       "      <td>23.000000</td>\n",
       "      <td>1.000000</td>\n",
       "      <td>3.000000</td>\n",
       "      <td>1.000000</td>\n",
       "      <td>3.153400e+06</td>\n",
       "      <td>...</td>\n",
       "      <td>629.800000</td>\n",
       "      <td>1.000000</td>\n",
       "      <td>1.000000</td>\n",
       "      <td>140.000000</td>\n",
       "      <td>160.000000</td>\n",
       "      <td>140.000000</td>\n",
       "      <td>140.000000</td>\n",
       "      <td>140.000000</td>\n",
       "      <td>720.000000</td>\n",
       "      <td>4.000000</td>\n",
       "    </tr>\n",
       "    <tr>\n",
       "      <th>max</th>\n",
       "      <td>5.095260e+06</td>\n",
       "      <td>1.900061e+11</td>\n",
       "      <td>2019.0</td>\n",
       "      <td>3.172202e+06</td>\n",
       "      <td>31.0</td>\n",
       "      <td>91.000000</td>\n",
       "      <td>4.000000</td>\n",
       "      <td>5.000000</td>\n",
       "      <td>4.000000</td>\n",
       "      <td>5.300108e+06</td>\n",
       "      <td>...</td>\n",
       "      <td>985.500000</td>\n",
       "      <td>1.000000</td>\n",
       "      <td>9.000000</td>\n",
       "      <td>200.000000</td>\n",
       "      <td>200.000000</td>\n",
       "      <td>200.000000</td>\n",
       "      <td>200.000000</td>\n",
       "      <td>200.000000</td>\n",
       "      <td>1000.000000</td>\n",
       "      <td>20.000000</td>\n",
       "    </tr>\n",
       "  </tbody>\n",
       "</table>\n",
       "<p>8 rows × 96 columns</p>\n",
       "</div>"
      ],
      "text/plain": [
       "         Unnamed: 0  NU_INSCRICAO    NU_ANO  CO_MUNICIPIO_RESIDENCIA  \\\n",
       "count  5.388960e+05  5.388960e+05  538896.0             5.388960e+05   \n",
       "mean   2.508770e+06  1.900035e+11    2019.0             3.134395e+06   \n",
       "std    1.505627e+06  1.505757e+06       0.0             2.248739e+04   \n",
       "min    1.044000e+03  1.900010e+11    2019.0             3.100104e+06   \n",
       "25%    1.344319e+06  1.900023e+11    2019.0             3.111200e+06   \n",
       "50%    2.498504e+06  1.900035e+11    2019.0             3.135100e+06   \n",
       "75%    3.966499e+06  1.900050e+11    2019.0             3.152501e+06   \n",
       "max    5.095260e+06  1.900061e+11    2019.0             3.172202e+06   \n",
       "\n",
       "       CO_UF_RESIDENCIA       NU_IDADE  TP_ESTADO_CIVIL    TP_COR_RACA  \\\n",
       "count          538896.0  538896.000000    538896.000000  538896.000000   \n",
       "mean               31.0      22.024361         1.087078       2.071778   \n",
       "std                 0.0       7.458167         0.428067       1.006767   \n",
       "min                31.0       4.000000         0.000000       0.000000   \n",
       "25%                31.0      18.000000         1.000000       1.000000   \n",
       "50%                31.0      19.000000         1.000000       2.000000   \n",
       "75%                31.0      23.000000         1.000000       3.000000   \n",
       "max                31.0      91.000000         4.000000       5.000000   \n",
       "\n",
       "       TP_NACIONALIDADE  CO_MUNICIPIO_NASCIMENTO  ...     NU_NOTA_MT  \\\n",
       "count     538896.000000             5.227400e+05  ...  393872.000000   \n",
       "mean           1.031299             3.152104e+06  ...     546.796208   \n",
       "std            0.210176             2.484819e+05  ...     115.072018   \n",
       "min            0.000000             1.100023e+06  ...       0.000000   \n",
       "25%            1.000000             3.106705e+06  ...     451.800000   \n",
       "50%            1.000000             3.134202e+06  ...     531.400000   \n",
       "75%            1.000000             3.153400e+06  ...     629.800000   \n",
       "max            4.000000             5.300108e+06  ...     985.500000   \n",
       "\n",
       "           TP_LINGUA  TP_STATUS_REDACAO  NU_NOTA_COMP1  NU_NOTA_COMP2  \\\n",
       "count  538896.000000      414346.000000  414346.000000  414346.000000   \n",
       "mean        0.425234           1.105212     124.647758     127.689998   \n",
       "std         0.494379           0.678323      32.395614      43.923177   \n",
       "min         0.000000           1.000000       0.000000       0.000000   \n",
       "25%         0.000000           1.000000     120.000000     120.000000   \n",
       "50%         0.000000           1.000000     120.000000     120.000000   \n",
       "75%         1.000000           1.000000     140.000000     160.000000   \n",
       "max         1.000000           9.000000     200.000000     200.000000   \n",
       "\n",
       "       NU_NOTA_COMP3  NU_NOTA_COMP4  NU_NOTA_COMP5  NU_NOTA_REDACAO  \\\n",
       "count  414346.000000  414346.000000  414346.000000    414346.000000   \n",
       "mean      119.292331     126.173922      99.186477       596.990486   \n",
       "std        40.975168      38.812983      60.673716       193.028261   \n",
       "min         0.000000       0.000000       0.000000         0.000000   \n",
       "25%       100.000000     100.000000      60.000000       500.000000   \n",
       "50%       120.000000     120.000000     100.000000       600.000000   \n",
       "75%       140.000000     140.000000     140.000000       720.000000   \n",
       "max       200.000000     200.000000     200.000000      1000.000000   \n",
       "\n",
       "                Q005  \n",
       "count  538896.000000  \n",
       "mean        3.750833  \n",
       "std         1.354242  \n",
       "min         1.000000  \n",
       "25%         3.000000  \n",
       "50%         4.000000  \n",
       "75%         4.000000  \n",
       "max        20.000000  \n",
       "\n",
       "[8 rows x 96 columns]"
      ]
     },
     "execution_count": 3,
     "metadata": {},
     "output_type": "execute_result"
    }
   ],
   "source": [
    "enem_2019_mg.describe()"
   ]
  },
  {
   "cell_type": "markdown",
   "metadata": {},
   "source": [
    "## Análise"
   ]
  },
  {
   "cell_type": "markdown",
   "metadata": {},
   "source": [
    "### 1 - Qual é a média da nota em matemática de todos os alunos mineiros?"
   ]
  },
  {
   "cell_type": "code",
   "execution_count": 4,
   "metadata": {},
   "outputs": [
    {
     "data": {
      "text/plain": [
       "546.7962076512125"
      ]
     },
     "execution_count": 4,
     "metadata": {},
     "output_type": "execute_result"
    }
   ],
   "source": [
    "enem_2019_mg[\"NU_NOTA_MT\"].mean()"
   ]
  },
  {
   "cell_type": "code",
   "execution_count": 5,
   "metadata": {},
   "outputs": [
    {
     "name": "stdout",
     "output_type": "stream",
     "text": [
      "         mean\n",
      "0  546.796208\n"
     ]
    }
   ],
   "source": [
    "print(\n",
    "    pysqldf(\"SELECT AVG(NU_NOTA_MT) as mean FROM enem_2019_mg\")\n",
    ")"
   ]
  },
  {
   "cell_type": "markdown",
   "metadata": {},
   "source": [
    "### 2- Qual é a média da nota em Linguagens e Códigos de todos os alunos mineiros?"
   ]
  },
  {
   "cell_type": "code",
   "execution_count": 6,
   "metadata": {},
   "outputs": [
    {
     "data": {
      "text/plain": [
       "531.2155500475544"
      ]
     },
     "execution_count": 6,
     "metadata": {},
     "output_type": "execute_result"
    }
   ],
   "source": [
    "enem_2019_mg[\"NU_NOTA_LC\"].mean()"
   ]
  },
  {
   "cell_type": "code",
   "execution_count": 7,
   "metadata": {},
   "outputs": [
    {
     "name": "stdout",
     "output_type": "stream",
     "text": [
      "        mean\n",
      "0  531.21555\n"
     ]
    }
   ],
   "source": [
    "print(\n",
    "    pysqldf(\"SELECT AVG(NU_NOTA_LC) as mean FROM enem_2019_mg\")\n",
    ")"
   ]
  },
  {
   "cell_type": "markdown",
   "metadata": {},
   "source": [
    "### 3 - Qual é a média da nota em Ciências Humanas dos alunos do sexo FEMININO mineiros?"
   ]
  },
  {
   "cell_type": "code",
   "execution_count": 8,
   "metadata": {},
   "outputs": [
    {
     "data": {
      "text/plain": [
       "515.1270983575349"
      ]
     },
     "execution_count": 8,
     "metadata": {},
     "output_type": "execute_result"
    }
   ],
   "source": [
    "enem_2019_mg[enem_2019_mg[\"TP_SEXO\"]==\"F\"][\"NU_NOTA_CH\"].mean()"
   ]
  },
  {
   "cell_type": "code",
   "execution_count": 9,
   "metadata": {},
   "outputs": [
    {
     "name": "stdout",
     "output_type": "stream",
     "text": [
      "         mean\n",
      "0  515.127098\n"
     ]
    }
   ],
   "source": [
    "print(\n",
    "    pysqldf(\"SELECT AVG(NU_NOTA_CH) as mean FROM enem_2019_mg WHERE TP_SEXO = 'F'\")\n",
    ")"
   ]
  },
  {
   "cell_type": "markdown",
   "metadata": {},
   "source": [
    "### 4 - Qual é a média da nota em Ciências Humanas dos alunos do sexo MASCULINO?"
   ]
  },
  {
   "cell_type": "code",
   "execution_count": 10,
   "metadata": {},
   "outputs": [
    {
     "data": {
      "text/plain": [
       "529.6982704731574"
      ]
     },
     "execution_count": 10,
     "metadata": {},
     "output_type": "execute_result"
    }
   ],
   "source": [
    "enem_2019_mg[enem_2019_mg[\"TP_SEXO\"]==\"M\"][\"NU_NOTA_CH\"].mean()"
   ]
  },
  {
   "cell_type": "code",
   "execution_count": 11,
   "metadata": {},
   "outputs": [
    {
     "name": "stdout",
     "output_type": "stream",
     "text": [
      "        mean\n",
      "0  529.69827\n"
     ]
    }
   ],
   "source": [
    "print(\n",
    "    pysqldf(\"SELECT AVG(NU_NOTA_CH) as mean FROM enem_2019_mg WHERE TP_SEXO = 'M'\")\n",
    ")"
   ]
  },
  {
   "cell_type": "markdown",
   "metadata": {},
   "source": [
    "### 5 - Qual é a média da nota em Matemática dos alunos do sexo FEMININO que moram na cidade de Montes Claros?"
   ]
  },
  {
   "cell_type": "code",
   "execution_count": 12,
   "metadata": {},
   "outputs": [
    {
     "data": {
      "text/plain": [
       "525.4776724249901"
      ]
     },
     "execution_count": 12,
     "metadata": {},
     "output_type": "execute_result"
    }
   ],
   "source": [
    "enem_2019_mg.loc[\n",
    "    (enem_2019_mg[\"NO_MUNICIPIO_RESIDENCIA\"]==\"Montes Claros\") \n",
    "    & (enem_2019_mg[\"TP_SEXO\"]==\"F\")\n",
    "][\"NU_NOTA_MT\"].mean()"
   ]
  },
  {
   "cell_type": "code",
   "execution_count": 13,
   "metadata": {},
   "outputs": [
    {
     "name": "stdout",
     "output_type": "stream",
     "text": [
      "         mean\n",
      "0  525.477672\n"
     ]
    }
   ],
   "source": [
    "print(\n",
    "    pysqldf(\"SELECT AVG(NU_NOTA_MT) as mean FROM enem_2019_mg WHERE TP_SEXO = 'F' AND NO_MUNICIPIO_RESIDENCIA = 'Montes Claros'\")\n",
    ")"
   ]
  },
  {
   "cell_type": "markdown",
   "metadata": {},
   "source": [
    "### 6 - Qual é a média da nota em Matemática dos alunos do município de Sabará que possuem TV por assinatura na residência?"
   ]
  },
  {
   "cell_type": "code",
   "execution_count": 14,
   "metadata": {},
   "outputs": [
    {
     "data": {
      "text/plain": [
       "543.2927556818183"
      ]
     },
     "execution_count": 14,
     "metadata": {},
     "output_type": "execute_result"
    }
   ],
   "source": [
    "enem_2019_mg.loc[\n",
    "    (enem_2019_mg[\"NO_MUNICIPIO_RESIDENCIA\"]==\"Sabará\") \n",
    "    & (enem_2019_mg[\"Q021\"]==\"B\")\n",
    "][\"NU_NOTA_MT\"].mean()"
   ]
  },
  {
   "cell_type": "code",
   "execution_count": 15,
   "metadata": {},
   "outputs": [
    {
     "name": "stdout",
     "output_type": "stream",
     "text": [
      "         mean\n",
      "0  543.292756\n"
     ]
    }
   ],
   "source": [
    "print(\n",
    "    pysqldf(\"SELECT AVG(NU_NOTA_MT) as mean FROM enem_2019_mg WHERE NO_MUNICIPIO_RESIDENCIA = 'Sabará' AND Q021 = 'B'\")\n",
    ")"
   ]
  },
  {
   "cell_type": "markdown",
   "metadata": {},
   "source": [
    "### 7 - Qual é a média da nota em Ciências Humanas dos alunos mineiros que possuem dois fornos micro-ondas em casa??"
   ]
  },
  {
   "cell_type": "code",
   "execution_count": 16,
   "metadata": {},
   "outputs": [
    {
     "data": {
      "text/plain": [
       "557.2765986394558"
      ]
     },
     "execution_count": 16,
     "metadata": {},
     "output_type": "execute_result"
    }
   ],
   "source": [
    "enem_2019_mg.loc[\n",
    "    (enem_2019_mg[\"Q016\"]==\"C\")\n",
    "][\"NU_NOTA_CH\"].mean()"
   ]
  },
  {
   "cell_type": "code",
   "execution_count": 17,
   "metadata": {},
   "outputs": [
    {
     "name": "stdout",
     "output_type": "stream",
     "text": [
      "         mean\n",
      "0  557.276599\n"
     ]
    }
   ],
   "source": [
    "print(\n",
    "    pysqldf(\"SELECT AVG(NU_NOTA_CH) as mean FROM enem_2019_mg WHERE Q016 = 'C'\")\n",
    ")"
   ]
  },
  {
   "cell_type": "markdown",
   "metadata": {},
   "source": [
    "### 8 - Qual é a nota média em Matemática dos alunos mineiros cuja mãe completou a pós-graduação?"
   ]
  },
  {
   "cell_type": "code",
   "execution_count": 18,
   "metadata": {},
   "outputs": [
    {
     "data": {
      "text/plain": [
       "620.007062070985"
      ]
     },
     "execution_count": 18,
     "metadata": {},
     "output_type": "execute_result"
    }
   ],
   "source": [
    "enem_2019_mg.loc[\n",
    "    (enem_2019_mg[\"Q002\"]==\"G\")\n",
    "][\"NU_NOTA_MT\"].mean()"
   ]
  },
  {
   "cell_type": "code",
   "execution_count": 19,
   "metadata": {},
   "outputs": [
    {
     "name": "stdout",
     "output_type": "stream",
     "text": [
      "         mean\n",
      "0  620.007062\n"
     ]
    }
   ],
   "source": [
    "print(\n",
    "    pysqldf(\"SELECT AVG(NU_NOTA_MT) as mean FROM enem_2019_mg WHERE Q002 = 'G'\")\n",
    ")"
   ]
  },
  {
   "cell_type": "markdown",
   "metadata": {},
   "source": [
    "### 9 - Qual é a nota média em Matemática dos alunos de Belo Horizonte e de Conselheiro Lafaiete?"
   ]
  },
  {
   "cell_type": "code",
   "execution_count": 20,
   "metadata": {},
   "outputs": [
    {
     "data": {
      "text/plain": [
       "578.0392265100068"
      ]
     },
     "execution_count": 20,
     "metadata": {},
     "output_type": "execute_result"
    }
   ],
   "source": [
    "enem_2019_mg.loc[\n",
    "    (enem_2019_mg[\"NO_MUNICIPIO_RESIDENCIA\"]==\"Belo Horizonte\") \n",
    "    | (enem_2019_mg[\"NO_MUNICIPIO_RESIDENCIA\"]==\"Conselheiro Lafaiete\") \n",
    "][\"NU_NOTA_MT\"].mean()"
   ]
  },
  {
   "cell_type": "code",
   "execution_count": 21,
   "metadata": {},
   "outputs": [
    {
     "name": "stdout",
     "output_type": "stream",
     "text": [
      "         mean\n",
      "0  578.039227\n"
     ]
    }
   ],
   "source": [
    "print(\n",
    "    pysqldf(\"SELECT AVG(NU_NOTA_MT) as mean FROM enem_2019_mg WHERE NO_MUNICIPIO_RESIDENCIA = 'Belo Horizonte' OR NO_MUNICIPIO_RESIDENCIA = 'Conselheiro Lafaiete'\")\n",
    ")"
   ]
  },
  {
   "cell_type": "markdown",
   "metadata": {},
   "source": [
    "### 10 - Qual é a nota média em Ciências Humanas dos alunos mineiros que moram sozinhos?"
   ]
  },
  {
   "cell_type": "code",
   "execution_count": 23,
   "metadata": {},
   "outputs": [
    {
     "data": {
      "text/plain": [
       "534.4573388609205"
      ]
     },
     "execution_count": 23,
     "metadata": {},
     "output_type": "execute_result"
    }
   ],
   "source": [
    "enem_2019_mg.loc[\n",
    "    (enem_2019_mg[\"Q005\"]==1)\n",
    "][\"NU_NOTA_CH\"].mean()"
   ]
  },
  {
   "cell_type": "code",
   "execution_count": 25,
   "metadata": {},
   "outputs": [
    {
     "name": "stdout",
     "output_type": "stream",
     "text": [
      "         mean\n",
      "0  534.457339\n"
     ]
    }
   ],
   "source": [
    "print(\n",
    "    pysqldf(\"SELECT AVG(NU_NOTA_CH) as mean FROM enem_2019_mg WHERE Q005 = 1\")\n",
    ")"
   ]
  },
  {
   "cell_type": "markdown",
   "metadata": {},
   "source": [
    "### 11 - Qual é a nota média em Ciências Humanas dos alunos mineiros cujo pai completou Pós graduação e possuem renda familiar entre RS 8.982,01 e RS 9.980,00."
   ]
  },
  {
   "cell_type": "code",
   "execution_count": 26,
   "metadata": {},
   "outputs": [
    {
     "data": {
      "text/plain": [
       "586.7231663685159"
      ]
     },
     "execution_count": 26,
     "metadata": {},
     "output_type": "execute_result"
    }
   ],
   "source": [
    "enem_2019_mg.loc[\n",
    "    (enem_2019_mg[\"Q001\"]=='G')\n",
    "    & (enem_2019_mg[\"Q006\"]=='M')\n",
    "][\"NU_NOTA_CH\"].mean()"
   ]
  },
  {
   "cell_type": "code",
   "execution_count": 27,
   "metadata": {},
   "outputs": [
    {
     "name": "stdout",
     "output_type": "stream",
     "text": [
      "         mean\n",
      "0  586.723166\n"
     ]
    }
   ],
   "source": [
    "print(\n",
    "    pysqldf(\"SELECT AVG(NU_NOTA_CH) as mean FROM enem_2019_mg WHERE Q001 = 'G' AND Q006 = 'M'\")\n",
    ")"
   ]
  },
  {
   "cell_type": "markdown",
   "metadata": {},
   "source": [
    "### 12 - Qual é a nota média em Matemática dos alunos do sexo Feminino que moram em Lavras e escolheram “Espanhol” como língua estrangeira?"
   ]
  },
  {
   "cell_type": "code",
   "execution_count": 38,
   "metadata": {},
   "outputs": [
    {
     "data": {
      "text/plain": [
       "510.80950782997775"
      ]
     },
     "execution_count": 38,
     "metadata": {},
     "output_type": "execute_result"
    }
   ],
   "source": [
    "enem_2019_mg.loc[\n",
    "    (enem_2019_mg[\"NO_MUNICIPIO_RESIDENCIA\"]==\"Lavras\") \n",
    "    & (enem_2019_mg[\"TP_LINGUA\"]==1)\n",
    "    & (enem_2019_mg[\"TP_SEXO\"]==\"F\")\n",
    "][\"NU_NOTA_MT\"].mean()"
   ]
  },
  {
   "cell_type": "code",
   "execution_count": 39,
   "metadata": {},
   "outputs": [
    {
     "name": "stdout",
     "output_type": "stream",
     "text": [
      "         mean\n",
      "0  510.809508\n"
     ]
    }
   ],
   "source": [
    "print(\n",
    "    pysqldf(\"SELECT AVG(NU_NOTA_MT) as mean FROM enem_2019_mg WHERE NO_MUNICIPIO_RESIDENCIA = 'Lavras' AND TP_LINGUA = 1 AND TP_SEXO = 'F'\")\n",
    ")"
   ]
  },
  {
   "cell_type": "markdown",
   "metadata": {},
   "source": [
    "### 13 - Qual é a nota média em Matemática dos alunos do sexo Masculino que moram em Ouro Preto?"
   ]
  },
  {
   "cell_type": "code",
   "execution_count": 30,
   "metadata": {},
   "outputs": [
    {
     "data": {
      "text/plain": [
       "555.0832520325198"
      ]
     },
     "execution_count": 30,
     "metadata": {},
     "output_type": "execute_result"
    }
   ],
   "source": [
    "enem_2019_mg.loc[\n",
    "    (enem_2019_mg[\"NO_MUNICIPIO_RESIDENCIA\"]==\"Ouro Preto\") \n",
    "    & (enem_2019_mg[\"TP_SEXO\"]==\"M\")\n",
    "][\"NU_NOTA_MT\"].mean()"
   ]
  },
  {
   "cell_type": "code",
   "execution_count": 31,
   "metadata": {},
   "outputs": [
    {
     "name": "stdout",
     "output_type": "stream",
     "text": [
      "         mean\n",
      "0  555.083252\n"
     ]
    }
   ],
   "source": [
    "print(\n",
    "    pysqldf(\"SELECT AVG(NU_NOTA_MT) as mean FROM enem_2019_mg WHERE NO_MUNICIPIO_RESIDENCIA = 'Ouro Preto' AND TP_SEXO = 'M'\")\n",
    ")"
   ]
  },
  {
   "cell_type": "markdown",
   "metadata": {},
   "source": [
    "### 14 - Qual é a nota média em Ciências Humanas dos alunos surdos?"
   ]
  },
  {
   "cell_type": "code",
   "execution_count": 32,
   "metadata": {},
   "outputs": [
    {
     "data": {
      "text/plain": [
       "435.38796296296283"
      ]
     },
     "execution_count": 32,
     "metadata": {},
     "output_type": "execute_result"
    }
   ],
   "source": [
    "enem_2019_mg.loc[\n",
    "    (enem_2019_mg[\"IN_SURDEZ\"]==1) \n",
    "][\"NU_NOTA_CH\"].mean()"
   ]
  },
  {
   "cell_type": "code",
   "execution_count": 33,
   "metadata": {},
   "outputs": [
    {
     "name": "stdout",
     "output_type": "stream",
     "text": [
      "         mean\n",
      "0  435.387963\n"
     ]
    }
   ],
   "source": [
    "print(\n",
    "    pysqldf(\"SELECT AVG(NU_NOTA_CH) as mean FROM enem_2019_mg WHERE IN_SURDEZ = 1\")\n",
    ")"
   ]
  },
  {
   "cell_type": "markdown",
   "metadata": {},
   "source": [
    "### 15 - Qual é a nota média em Matemática dos alunos do sexo FEMININO, que moram em Belo Horizonte, Sabará, Nova Lima e Betim e possuem dislexia?"
   ]
  },
  {
   "cell_type": "code",
   "execution_count": 40,
   "metadata": {},
   "outputs": [
    {
     "data": {
      "text/plain": [
       "582.1935483870968"
      ]
     },
     "execution_count": 40,
     "metadata": {},
     "output_type": "execute_result"
    }
   ],
   "source": [
    "enem_2019_mg.loc[\n",
    "    (\n",
    "        (enem_2019_mg[\"NO_MUNICIPIO_RESIDENCIA\"]==\"Belo Horizonte\")\n",
    "        | (enem_2019_mg[\"NO_MUNICIPIO_RESIDENCIA\"]==\"Sabará\")\n",
    "        | (enem_2019_mg[\"NO_MUNICIPIO_RESIDENCIA\"]==\"Nova Lima\")\n",
    "        | (enem_2019_mg[\"NO_MUNICIPIO_RESIDENCIA\"]==\"Betim\")\n",
    "    )\n",
    "    & (enem_2019_mg[\"TP_SEXO\"]=='F')\n",
    "    & (enem_2019_mg[\"IN_DISLEXIA\"]==1)\n",
    "][\"NU_NOTA_MT\"].mean()"
   ]
  },
  {
   "cell_type": "code",
   "execution_count": 41,
   "metadata": {},
   "outputs": [
    {
     "name": "stdout",
     "output_type": "stream",
     "text": [
      "         mean\n",
      "0  582.193548\n"
     ]
    }
   ],
   "source": [
    "print(\n",
    "    pysqldf(\"SELECT AVG(NU_NOTA_MT) as mean FROM enem_2019_mg WHERE NO_MUNICIPIO_RESIDENCIA IN ('Belo Horizonte', 'Sabará', 'Nova Lima', 'Betim') AND TP_SEXO = 'F' AND IN_DISLEXIA = 1\")\n",
    ")"
   ]
  }
 ],
 "metadata": {
  "kernelspec": {
   "display_name": "Python 3",
   "language": "python",
   "name": "python3"
  },
  "language_info": {
   "codemirror_mode": {
    "name": "ipython",
    "version": 3
   },
   "file_extension": ".py",
   "mimetype": "text/x-python",
   "name": "python",
   "nbconvert_exporter": "python",
   "pygments_lexer": "ipython3",
   "version": "3.8.3"
  }
 },
 "nbformat": 4,
 "nbformat_minor": 4
}
