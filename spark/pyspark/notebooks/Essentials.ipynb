{
 "cells": [
  {
   "cell_type": "markdown",
   "id": "judicial-receptor",
   "metadata": {},
   "source": [
    "# Spark PySpark"
   ]
  },
  {
   "cell_type": "markdown",
   "id": "infrared-christianity",
   "metadata": {},
   "source": [
    "## Imports"
   ]
  },
  {
   "cell_type": "code",
   "execution_count": 11,
   "id": "particular-helena",
   "metadata": {},
   "outputs": [],
   "source": [
    "from pyspark.sql import SparkSession \n",
    "from pyspark.sql import types as data_types"
   ]
  },
  {
   "cell_type": "code",
   "execution_count": 5,
   "id": "disciplinary-explorer",
   "metadata": {},
   "outputs": [],
   "source": [
    "spark_session = SparkSession.builder.appName(\"Essentials\").getOrCreate()"
   ]
  },
  {
   "cell_type": "code",
   "execution_count": 6,
   "id": "vulnerable-hungarian",
   "metadata": {},
   "outputs": [],
   "source": [
    "df = spark_session.read.json('books.json')"
   ]
  },
  {
   "cell_type": "code",
   "execution_count": 8,
   "id": "underlying-burton",
   "metadata": {},
   "outputs": [
    {
     "name": "stdout",
     "output_type": "stream",
     "text": [
      "+---+--------------------+--------------------+----------+--------------------+---------+--------------------+--------------------+-------+--------------------+--------------------+\n",
      "|_id|             authors|          categories|      isbn|     longDescription|pageCount|       publishedDate|    shortDescription| status|        thumbnailUrl|               title|\n",
      "+---+--------------------+--------------------+----------+--------------------+---------+--------------------+--------------------+-------+--------------------+--------------------+\n",
      "|  1|[W. Frank Ableson...|[Open Source, Mob...|1933988673|Android is an ope...|      416|[2009-04-01T00:00...|Unlocking Android...|PUBLISH|https://s3.amazon...|   Unlocking Android|\n",
      "|  2|[W. Frank Ableson...|              [Java]|1935182722|When it comes to ...|      592|[2011-01-14T00:00...|Android in Action...|PUBLISH|https://s3.amazon...|Android in Action...|\n",
      "|  3|       [Gojko Adzic]|[Software Enginee...|1617290084|                null|        0|[2011-06-03T00:00...|                null|PUBLISH|https://s3.amazon...|Specification by ...|\n",
      "|  4|[Tariq Ahmed with...|          [Internet]|1933988746|New web applicati...|      576|[2009-02-02T00:00...|                null|PUBLISH|https://s3.amazon...|    Flex 3 in Action|\n",
      "|  5|[Tariq Ahmed, Dan...|          [Internet]|1935182420|Using Flex, you c...|      600|[2010-11-15T00:00...|                null|PUBLISH|https://s3.amazon...|    Flex 4 in Action|\n",
      "+---+--------------------+--------------------+----------+--------------------+---------+--------------------+--------------------+-------+--------------------+--------------------+\n",
      "only showing top 5 rows\n",
      "\n"
     ]
    }
   ],
   "source": [
    "df.show(5)"
   ]
  },
  {
   "cell_type": "code",
   "execution_count": 9,
   "id": "australian-immigration",
   "metadata": {},
   "outputs": [
    {
     "name": "stdout",
     "output_type": "stream",
     "text": [
      "+-------+--------------------+--------------------+--------------------+------------------+--------------------+-------+--------------------+-------------------+\n",
      "|summary|                 _id|                isbn|     longDescription|         pageCount|    shortDescription| status|        thumbnailUrl|              title|\n",
      "+-------+--------------------+--------------------+--------------------+------------------+--------------------+-------+--------------------+-------------------+\n",
      "|  count|                 431|                 428|                 263|               431|                 160|    431|                 411|                431|\n",
      "|   mean|   334.1503759398496| 1.06059324479992E11|                null|289.25986078886314|                null|   null|                null|               null|\n",
      "| stddev|   245.5287238077908|1.006035239595016E12|                null| 260.8733493639254|                null|   null|                null|               null|\n",
      "|    min|                   1|          013268327X|3D User Interface...|                 0|   ... a great re...|   MEAP|https://s3.amazon...|.NET Multithreading|\n",
      "|    max|{\"$oid\":\"53c2ae85...|       9781935182924|wxPython is an op...|              1101|jQuery in Action,...|PUBLISH|https://s3.amazon...| wxPython in Action|\n",
      "+-------+--------------------+--------------------+--------------------+------------------+--------------------+-------+--------------------+-------------------+\n",
      "\n"
     ]
    }
   ],
   "source": [
    "df.describe().show()"
   ]
  },
  {
   "cell_type": "code",
   "execution_count": 10,
   "id": "competitive-tamil",
   "metadata": {},
   "outputs": [
    {
     "name": "stdout",
     "output_type": "stream",
     "text": [
      "root\n",
      " |-- _id: string (nullable = true)\n",
      " |-- authors: array (nullable = true)\n",
      " |    |-- element: string (containsNull = true)\n",
      " |-- categories: array (nullable = true)\n",
      " |    |-- element: string (containsNull = true)\n",
      " |-- isbn: string (nullable = true)\n",
      " |-- longDescription: string (nullable = true)\n",
      " |-- pageCount: long (nullable = true)\n",
      " |-- publishedDate: struct (nullable = true)\n",
      " |    |-- $date: string (nullable = true)\n",
      " |-- shortDescription: string (nullable = true)\n",
      " |-- status: string (nullable = true)\n",
      " |-- thumbnailUrl: string (nullable = true)\n",
      " |-- title: string (nullable = true)\n",
      "\n"
     ]
    }
   ],
   "source": [
    "df.printSchema()"
   ]
  },
  {
   "cell_type": "code",
   "execution_count": 22,
   "id": "selected-draft",
   "metadata": {},
   "outputs": [],
   "source": [
    "my_data_schema = [\n",
    "    data_types.StructField(\"_id\", data_types.StringType(), True),\n",
    "    data_types.StructField(\"authors\", data_types.ArrayType(\n",
    "        data_types.StructType(\n",
    "            [\n",
    "               data_types.StructField(\"author\", data_types.StringType(), True) \n",
    "            ]\n",
    "        )\n",
    "        \n",
    "    )),\n",
    "    data_types.StructField(\"categories\", data_types.ArrayType(\n",
    "        data_types.StructType(\n",
    "            [\n",
    "               data_types.StructField(\"category\", data_types.StringType(), True) \n",
    "            ]\n",
    "        )\n",
    "    )),\n",
    "    data_types.StructField(\"isbn\", data_types.StringType(), True),\n",
    "    data_types.StructField(\"longDescription\", data_types.StringType(), True),\n",
    "    data_types.StructField(\"pageCount\", data_types.IntegerType(), True),\n",
    "    data_types.StructField(\"publishedDate\", data_types.DateType(), True),\n",
    "    data_types.StructField(\"shortDescription\", data_types.StringType(), True),\n",
    "    data_types.StructField(\"status\", data_types.StringType(), True),\n",
    "    data_types.StructField(\"thumbnailUrl\", data_types.StringType(), True),\n",
    "    data_types.StructField(\"title\", data_types.StringType(), True),\n",
    "]"
   ]
  },
  {
   "cell_type": "code",
   "execution_count": 23,
   "id": "flexible-tunisia",
   "metadata": {},
   "outputs": [],
   "source": [
    "my_structure = data_types.StructType(fields=my_data_schema)"
   ]
  },
  {
   "cell_type": "code",
   "execution_count": 25,
   "id": "blond-stroke",
   "metadata": {},
   "outputs": [],
   "source": [
    "df = spark_session.read.json('books.json', my_structure)"
   ]
  },
  {
   "cell_type": "code",
   "execution_count": 26,
   "id": "level-communication",
   "metadata": {},
   "outputs": [
    {
     "name": "stdout",
     "output_type": "stream",
     "text": [
      "root\n",
      " |-- _id: string (nullable = true)\n",
      " |-- authors: array (nullable = true)\n",
      " |    |-- element: struct (containsNull = true)\n",
      " |    |    |-- author: string (nullable = true)\n",
      " |-- categories: array (nullable = true)\n",
      " |    |-- element: struct (containsNull = true)\n",
      " |    |    |-- category: string (nullable = true)\n",
      " |-- isbn: string (nullable = true)\n",
      " |-- longDescription: string (nullable = true)\n",
      " |-- pageCount: integer (nullable = true)\n",
      " |-- publishedDate: date (nullable = true)\n",
      " |-- shortDescription: string (nullable = true)\n",
      " |-- status: string (nullable = true)\n",
      " |-- thumbnailUrl: string (nullable = true)\n",
      " |-- title: string (nullable = true)\n",
      "\n"
     ]
    }
   ],
   "source": [
    "df.printSchema()"
   ]
  },
  {
   "cell_type": "code",
   "execution_count": 27,
   "id": "exciting-planning",
   "metadata": {},
   "outputs": [
    {
     "name": "stdout",
     "output_type": "stream",
     "text": [
      "+---+-------+----------+----------+--------------------+---------+-------------+--------------------+-------+--------------------+--------------------+\n",
      "|_id|authors|categories|      isbn|     longDescription|pageCount|publishedDate|    shortDescription| status|        thumbnailUrl|               title|\n",
      "+---+-------+----------+----------+--------------------+---------+-------------+--------------------+-------+--------------------+--------------------+\n",
      "|  1|   null|      null|1933988673|Android is an ope...|      416|         null|Unlocking Android...|PUBLISH|https://s3.amazon...|   Unlocking Android|\n",
      "|  2|   null|      null|1935182722|When it comes to ...|      592|         null|Android in Action...|PUBLISH|https://s3.amazon...|Android in Action...|\n",
      "+---+-------+----------+----------+--------------------+---------+-------------+--------------------+-------+--------------------+--------------------+\n",
      "only showing top 2 rows\n",
      "\n"
     ]
    }
   ],
   "source": [
    "df.show(2)"
   ]
  },
  {
   "cell_type": "code",
   "execution_count": null,
   "id": "little-hammer",
   "metadata": {},
   "outputs": [],
   "source": []
  }
 ],
 "metadata": {
  "kernelspec": {
   "display_name": "Python 3",
   "language": "python",
   "name": "python3"
  },
  "language_info": {
   "codemirror_mode": {
    "name": "ipython",
    "version": 3
   },
   "file_extension": ".py",
   "mimetype": "text/x-python",
   "name": "python",
   "nbconvert_exporter": "python",
   "pygments_lexer": "ipython3",
   "version": "3.8.8"
  }
 },
 "nbformat": 4,
 "nbformat_minor": 5
}
